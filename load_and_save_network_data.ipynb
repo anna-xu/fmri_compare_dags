{
 "cells": [
  {
   "cell_type": "code",
   "execution_count": 11,
   "metadata": {},
   "outputs": [],
   "source": [
    "import numpy as np\n",
    "import scipy.io\n",
    "import os\n",
    "import pandas as pd"
   ]
  },
  {
   "cell_type": "code",
   "execution_count": 20,
   "metadata": {},
   "outputs": [],
   "source": [
    "def load_sims(i):\n",
    "    path = f'sims/sim{i}.mat'\n",
    "    sims = scipy.io.loadmat(path)\n",
    "    ts = sims['ts'].reshape(\n",
    "        int(sims['Nsubjects']),\n",
    "        int(sims['Ntimepoints']),\n",
    "        int(sims['Nnodes']),\n",
    "    )\n",
    "    nets = sims['net']\n",
    "    return ts, nets"
   ]
  },
  {
   "cell_type": "code",
   "execution_count": 23,
   "metadata": {},
   "outputs": [],
   "source": [
    "sim_files = len([file for file in os.listdir('sims')])\n",
    "\n",
    "for curr_sim in range(sim_files):\n",
    "    network_data, ground_truth = load_sims(curr_sim+1)\n",
    "    for curr_subj in range(network_data.shape[0]):\n",
    "        network_data_df = pd.DataFrame(network_data[curr_subj].copy())\n",
    "        network_data_df.to_csv(f'simulation_{curr_sim+1}_{curr_subj+1}.csv')\n",
    "        ground_truth_df = pd.DataFrame(ground_truth[curr_subj].copy())\n",
    "        ground_truth_df.to_csv(f'ground_truth_{curr_sim+1}_{curr_subj+1}.csv')"
   ]
  },
  {
   "cell_type": "code",
   "execution_count": null,
   "metadata": {},
   "outputs": [],
   "source": []
  }
 ],
 "metadata": {
  "kernelspec": {
   "display_name": "Python 3",
   "language": "python",
   "name": "python3"
  },
  "language_info": {
   "codemirror_mode": {
    "name": "ipython",
    "version": 3
   },
   "file_extension": ".py",
   "mimetype": "text/x-python",
   "name": "python",
   "nbconvert_exporter": "python",
   "pygments_lexer": "ipython3",
   "version": "3.8.5"
  }
 },
 "nbformat": 4,
 "nbformat_minor": 4
}
